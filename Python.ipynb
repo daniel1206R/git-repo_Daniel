{
 "cells": [
  {
   "cell_type": "code",
   "execution_count": 1,
   "id": "e11a39c4",
   "metadata": {},
   "outputs": [
    {
     "name": "stdout",
     "output_type": "stream",
     "text": [
      "hello world\n"
     ]
    }
   ],
   "source": [
    "print(\"hello world\")"
   ]
  },
  {
   "cell_type": "code",
   "execution_count": 3,
   "id": "78c1de85",
   "metadata": {
    "scrolled": true
   },
   "outputs": [
    {
     "name": "stdout",
     "output_type": "stream",
     "text": [
      "hello Daniel\n"
     ]
    }
   ],
   "source": [
    "name = \"Daniel\"\n",
    "print(f\"hello {name}\")"
   ]
  },
  {
   "cell_type": "code",
   "execution_count": null,
   "id": "ff52e609",
   "metadata": {},
   "outputs": [],
   "source": [
    "## Listas y diccinarios"
   ]
  },
  {
   "cell_type": "code",
   "execution_count": 4,
   "id": "7fcfd9f8",
   "metadata": {},
   "outputs": [
    {
     "name": "stdout",
     "output_type": "stream",
     "text": [
      "hello world\n"
     ]
    }
   ],
   "source": [
    "print(\"hello world\")"
   ]
  },
  {
   "cell_type": "code",
   "execution_count": 5,
   "id": "a0cc31fd",
   "metadata": {},
   "outputs": [],
   "source": [
    "frutas = [\"Manzana\", \"pera\", \"limon\"]"
   ]
  },
  {
   "cell_type": "code",
   "execution_count": null,
   "id": "f7c91141",
   "metadata": {},
   "outputs": [],
   "source": [
    "type (frutas)"
   ]
  },
  {
   "cell_type": "code",
   "execution_count": 6,
   "id": "567a0fb8",
   "metadata": {},
   "outputs": [
    {
     "data": {
      "text/plain": [
       "'Manzana'"
      ]
     },
     "execution_count": 6,
     "metadata": {},
     "output_type": "execute_result"
    }
   ],
   "source": [
    "frutas [0]"
   ]
  },
  {
   "cell_type": "code",
   "execution_count": 11,
   "id": "be6fcb9c",
   "metadata": {},
   "outputs": [
    {
     "data": {
      "text/plain": [
       "['Manzana', 'pera']"
      ]
     },
     "execution_count": 11,
     "metadata": {},
     "output_type": "execute_result"
    }
   ],
   "source": [
    "frutas[:-1]"
   ]
  },
  {
   "cell_type": "code",
   "execution_count": 12,
   "id": "4d83e1fc",
   "metadata": {},
   "outputs": [
    {
     "data": {
      "text/plain": [
       "'pera'"
      ]
     },
     "execution_count": 12,
     "metadata": {},
     "output_type": "execute_result"
    }
   ],
   "source": [
    "frutas [1]"
   ]
  },
  {
   "cell_type": "code",
   "execution_count": 14,
   "id": "9a8af4a1",
   "metadata": {},
   "outputs": [
    {
     "data": {
      "text/plain": [
       "'limon'"
      ]
     },
     "execution_count": 14,
     "metadata": {},
     "output_type": "execute_result"
    }
   ],
   "source": [
    "frutas[2]"
   ]
  },
  {
   "cell_type": "code",
   "execution_count": 15,
   "id": "b74f4af3",
   "metadata": {},
   "outputs": [
    {
     "name": "stdout",
     "output_type": "stream",
     "text": [
      "esta es mi fruta favorita: Manzana\n",
      "esta es mi fruta favorita: pera\n",
      "esta es mi fruta favorita: limon\n"
     ]
    }
   ],
   "source": [
    "for mi_fruta in frutas:\n",
    "    print(f\"esta es mi fruta favorita: {mi_fruta}\")"
   ]
  },
  {
   "cell_type": "code",
   "execution_count": 16,
   "id": "b2cb0947",
   "metadata": {},
   "outputs": [],
   "source": [
    "#### diccionario"
   ]
  },
  {
   "cell_type": "code",
   "execution_count": 17,
   "id": "38d59a74",
   "metadata": {},
   "outputs": [],
   "source": [
    "comidas  = {\"desayuno\": \"café\", \"almuerzo\": \"carne\", \"cena\": \"arepa\"}"
   ]
  },
  {
   "cell_type": "code",
   "execution_count": 18,
   "id": "72b0aef1",
   "metadata": {},
   "outputs": [
    {
     "data": {
      "text/plain": [
       "dict_keys(['desayuno', 'almuerzo', 'cena'])"
      ]
     },
     "execution_count": 18,
     "metadata": {},
     "output_type": "execute_result"
    }
   ],
   "source": [
    "comidas.keys()"
   ]
  },
  {
   "cell_type": "code",
   "execution_count": 20,
   "id": "812fc1ba",
   "metadata": {},
   "outputs": [
    {
     "data": {
      "text/plain": [
       "dict_values(['café', 'carne', 'arepa'])"
      ]
     },
     "execution_count": 20,
     "metadata": {},
     "output_type": "execute_result"
    }
   ],
   "source": [
    "comidas.values()"
   ]
  },
  {
   "cell_type": "code",
   "execution_count": 23,
   "id": "55c1bd7b",
   "metadata": {},
   "outputs": [
    {
     "name": "stdout",
     "output_type": "stream",
     "text": [
      "al desayuno consumo café\n",
      "al almuerzo consumo carne\n",
      "al cena consumo arepa\n"
     ]
    }
   ],
   "source": [
    "for comidas_name, como_item in comidas.items():\n",
    "    print(f\"al {comidas_name} consumo {como_item}\")"
   ]
  },
  {
   "cell_type": "code",
   "execution_count": null,
   "id": "ccc53d9f",
   "metadata": {},
   "outputs": [],
   "source": []
  }
 ],
 "metadata": {
  "kernelspec": {
   "display_name": "Python 3 (ipykernel)",
   "language": "python",
   "name": "python3"
  },
  "language_info": {
   "codemirror_mode": {
    "name": "ipython",
    "version": 3
   },
   "file_extension": ".py",
   "mimetype": "text/x-python",
   "name": "python",
   "nbconvert_exporter": "python",
   "pygments_lexer": "ipython3",
   "version": "3.11.5"
  }
 },
 "nbformat": 4,
 "nbformat_minor": 5
}
